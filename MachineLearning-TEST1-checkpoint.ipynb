{
 "cells": [
  {
   "cell_type": "code",
   "execution_count": 1,
   "id": "f7490719",
   "metadata": {},
   "outputs": [],
   "source": [
    "import numpy as np \n",
    "import seaborn as sns # for data visualization \n",
    "\n",
    "from matplotlib import pyplot as plt # for plotting\n",
    "%matplotlib inline\n",
    "sns.set_style(\"whitegrid\")\n",
    "import pandas as pd \n",
    "import time "
   ]
  },
  {
   "cell_type": "code",
   "execution_count": 4,
   "id": "4fcd68c5",
   "metadata": {},
   "outputs": [
    {
     "data": {
      "text/html": [
       "<div>\n",
       "<style scoped>\n",
       "    .dataframe tbody tr th:only-of-type {\n",
       "        vertical-align: middle;\n",
       "    }\n",
       "\n",
       "    .dataframe tbody tr th {\n",
       "        vertical-align: top;\n",
       "    }\n",
       "\n",
       "    .dataframe thead th {\n",
       "        text-align: right;\n",
       "    }\n",
       "</style>\n",
       "<table border=\"1\" class=\"dataframe\">\n",
       "  <thead>\n",
       "    <tr style=\"text-align: right;\">\n",
       "      <th></th>\n",
       "      <th>Name</th>\n",
       "      <th>Album</th>\n",
       "      <th>Artist</th>\n",
       "      <th>Release_date</th>\n",
       "      <th>Length</th>\n",
       "      <th>Popularity</th>\n",
       "      <th>Acousticness</th>\n",
       "      <th>Danceability</th>\n",
       "      <th>Energy</th>\n",
       "      <th>Instrumentalness</th>\n",
       "      <th>liveness</th>\n",
       "      <th>Loudness</th>\n",
       "      <th>Speechiness</th>\n",
       "      <th>Tempo</th>\n",
       "      <th>Time_signature</th>\n",
       "      <th>Key</th>\n",
       "      <th>Duration_ms</th>\n",
       "      <th>Mode</th>\n",
       "      <th>Speechiness.1</th>\n",
       "      <th>Valence</th>\n",
       "    </tr>\n",
       "  </thead>\n",
       "  <tbody>\n",
       "    <tr>\n",
       "      <th>0</th>\n",
       "      <td>It Must Have Been Love - From the Film \"Pretty...</td>\n",
       "      <td>It Must Have Been Love</td>\n",
       "      <td>Roxette</td>\n",
       "      <td>1990-05-20</td>\n",
       "      <td>258786</td>\n",
       "      <td>1</td>\n",
       "      <td>0.340000</td>\n",
       "      <td>0.520</td>\n",
       "      <td>0.652</td>\n",
       "      <td>0.000055</td>\n",
       "      <td>0.2560</td>\n",
       "      <td>-6.655</td>\n",
       "      <td>0.0274</td>\n",
       "      <td>80.609</td>\n",
       "      <td>0</td>\n",
       "      <td>11</td>\n",
       "      <td>258787</td>\n",
       "      <td>1</td>\n",
       "      <td>0.0274</td>\n",
       "      <td>0.722</td>\n",
       "    </tr>\n",
       "    <tr>\n",
       "      <th>1</th>\n",
       "      <td>Freedom! '90</td>\n",
       "      <td>Ladies And Gentlemen... The Best Of George Mic...</td>\n",
       "      <td>George Michael</td>\n",
       "      <td>1998-11-09</td>\n",
       "      <td>388400</td>\n",
       "      <td>1</td>\n",
       "      <td>0.099800</td>\n",
       "      <td>0.675</td>\n",
       "      <td>0.873</td>\n",
       "      <td>0.000015</td>\n",
       "      <td>0.0541</td>\n",
       "      <td>-7.697</td>\n",
       "      <td>0.0441</td>\n",
       "      <td>91.770</td>\n",
       "      <td>0</td>\n",
       "      <td>11</td>\n",
       "      <td>388400</td>\n",
       "      <td>1</td>\n",
       "      <td>0.0441</td>\n",
       "      <td>0.817</td>\n",
       "    </tr>\n",
       "    <tr>\n",
       "      <th>2</th>\n",
       "      <td>Nothing Compares 2 U</td>\n",
       "      <td>I Do Not Want What I Haven't Got</td>\n",
       "      <td>Sinéad O'Connor</td>\n",
       "      <td>1990-07-01</td>\n",
       "      <td>280040</td>\n",
       "      <td>1</td>\n",
       "      <td>0.042500</td>\n",
       "      <td>0.511</td>\n",
       "      <td>0.574</td>\n",
       "      <td>0.000023</td>\n",
       "      <td>0.1050</td>\n",
       "      <td>-7.016</td>\n",
       "      <td>0.0273</td>\n",
       "      <td>119.917</td>\n",
       "      <td>0</td>\n",
       "      <td>11</td>\n",
       "      <td>280040</td>\n",
       "      <td>1</td>\n",
       "      <td>0.0273</td>\n",
       "      <td>0.161</td>\n",
       "    </tr>\n",
       "    <tr>\n",
       "      <th>3</th>\n",
       "      <td>Kingston Town</td>\n",
       "      <td>Labour Of Love II</td>\n",
       "      <td>UB40</td>\n",
       "      <td>1989-01-01</td>\n",
       "      <td>231733</td>\n",
       "      <td>1</td>\n",
       "      <td>0.119000</td>\n",
       "      <td>0.957</td>\n",
       "      <td>0.226</td>\n",
       "      <td>0.035800</td>\n",
       "      <td>0.0796</td>\n",
       "      <td>-14.606</td>\n",
       "      <td>0.0594</td>\n",
       "      <td>102.072</td>\n",
       "      <td>0</td>\n",
       "      <td>7</td>\n",
       "      <td>231733</td>\n",
       "      <td>1</td>\n",
       "      <td>0.0594</td>\n",
       "      <td>0.768</td>\n",
       "    </tr>\n",
       "    <tr>\n",
       "      <th>4</th>\n",
       "      <td>Thunderstruck</td>\n",
       "      <td>The Razors Edge</td>\n",
       "      <td>AC/DC</td>\n",
       "      <td>1990-09-24</td>\n",
       "      <td>292880</td>\n",
       "      <td>1</td>\n",
       "      <td>0.000147</td>\n",
       "      <td>0.502</td>\n",
       "      <td>0.890</td>\n",
       "      <td>0.011700</td>\n",
       "      <td>0.2170</td>\n",
       "      <td>-5.175</td>\n",
       "      <td>0.0364</td>\n",
       "      <td>133.520</td>\n",
       "      <td>0</td>\n",
       "      <td>8</td>\n",
       "      <td>292880</td>\n",
       "      <td>1</td>\n",
       "      <td>0.0364</td>\n",
       "      <td>0.259</td>\n",
       "    </tr>\n",
       "  </tbody>\n",
       "</table>\n",
       "</div>"
      ],
      "text/plain": [
       "                                                Name  \\\n",
       "0  It Must Have Been Love - From the Film \"Pretty...   \n",
       "1                                       Freedom! '90   \n",
       "2                               Nothing Compares 2 U   \n",
       "3                                      Kingston Town   \n",
       "4                                      Thunderstruck   \n",
       "\n",
       "                                               Album           Artist  \\\n",
       "0                             It Must Have Been Love          Roxette   \n",
       "1  Ladies And Gentlemen... The Best Of George Mic...   George Michael   \n",
       "2                   I Do Not Want What I Haven't Got  Sinéad O'Connor   \n",
       "3                                  Labour Of Love II             UB40   \n",
       "4                                    The Razors Edge            AC/DC   \n",
       "\n",
       "  Release_date  Length  Popularity  Acousticness  Danceability  Energy  \\\n",
       "0   1990-05-20  258786           1      0.340000         0.520   0.652   \n",
       "1   1998-11-09  388400           1      0.099800         0.675   0.873   \n",
       "2   1990-07-01  280040           1      0.042500         0.511   0.574   \n",
       "3   1989-01-01  231733           1      0.119000         0.957   0.226   \n",
       "4   1990-09-24  292880           1      0.000147         0.502   0.890   \n",
       "\n",
       "   Instrumentalness  liveness  Loudness  Speechiness    Tempo  Time_signature  \\\n",
       "0          0.000055    0.2560    -6.655       0.0274   80.609               0   \n",
       "1          0.000015    0.0541    -7.697       0.0441   91.770               0   \n",
       "2          0.000023    0.1050    -7.016       0.0273  119.917               0   \n",
       "3          0.035800    0.0796   -14.606       0.0594  102.072               0   \n",
       "4          0.011700    0.2170    -5.175       0.0364  133.520               0   \n",
       "\n",
       "   Key  Duration_ms  Mode  Speechiness.1  Valence  \n",
       "0   11       258787     1         0.0274    0.722  \n",
       "1   11       388400     1         0.0441    0.817  \n",
       "2   11       280040     1         0.0273    0.161  \n",
       "3    7       231733     1         0.0594    0.768  \n",
       "4    8       292880     1         0.0364    0.259  "
      ]
     },
     "execution_count": 4,
     "metadata": {},
     "output_type": "execute_result"
    }
   ],
   "source": [
    "df = pd.read_csv('df_final.csv')\n",
    "del df['Unnamed: 0']\n",
    "\n",
    "df.head()"
   ]
  },
  {
   "cell_type": "code",
   "execution_count": 5,
   "id": "34b4745b",
   "metadata": {},
   "outputs": [],
   "source": [
    "from sklearn.linear_model import LogisticRegression\n",
    "from sklearn.ensemble import RandomForestClassifier\n",
    "from sklearn.neighbors import KNeighborsClassifier\n",
    "from sklearn.tree import DecisionTreeClassifier\n",
    "from sklearn.svm import SVC, LinearSVC\n",
    "\n",
    "from sklearn.metrics import make_scorer, accuracy_score, roc_auc_score \n",
    "from sklearn.model_selection import GridSearchCV\n",
    "from sklearn.model_selection import train_test_split"
   ]
  },
  {
   "cell_type": "code",
   "execution_count": 8,
   "id": "9de4d6a2",
   "metadata": {},
   "outputs": [],
   "source": [
    "features = [\"Acousticness\", \"Danceability\", \"Duration_ms\", \"Energy\", \"Instrumentalness\", \"Key\", \"liveness\", \n",
    "            \"Mode\", \"Speechiness\", \"Tempo\", \"Time_signature\", \"Valence\"]"
   ]
  },
  {
   "cell_type": "code",
   "execution_count": 9,
   "id": "f0dc2369",
   "metadata": {},
   "outputs": [],
   "source": [
    "training = df.sample(frac = 0.8,random_state = 420)\n",
    "X_train = training[features]\n",
    "y_train = training['Popularity']\n",
    "X_test = df.drop(training.index)[features]"
   ]
  },
  {
   "cell_type": "code",
   "execution_count": 10,
   "id": "548657e8",
   "metadata": {},
   "outputs": [],
   "source": [
    "X_train, X_valid, y_train, y_valid = train_test_split(X_train, y_train, test_size = 0.2, random_state = 420)"
   ]
  },
  {
   "cell_type": "code",
   "execution_count": 11,
   "id": "7e6021e0",
   "metadata": {},
   "outputs": [
    {
     "name": "stdout",
     "output_type": "stream",
     "text": [
      "Accuracy: 0.8134920634920635\n",
      "AUC: 0.5\n"
     ]
    }
   ],
   "source": [
    "LR_Model = LogisticRegression()\n",
    "LR_Model.fit(X_train, y_train)\n",
    "LR_Predict = LR_Model.predict(X_valid)\n",
    "LR_Accuracy = accuracy_score(y_valid, LR_Predict)\n",
    "print(\"Accuracy: \" + str(LR_Accuracy))\n",
    "\n",
    "LR_AUC = roc_auc_score(y_valid, LR_Predict) \n",
    "print(\"AUC: \" + str(LR_AUC))"
   ]
  },
  {
   "cell_type": "code",
   "execution_count": 12,
   "id": "58ec40e8",
   "metadata": {},
   "outputs": [
    {
     "name": "stdout",
     "output_type": "stream",
     "text": [
      "Accuracy: 0.8154761904761905\n",
      "AUC: 0.5258173326414115\n"
     ]
    }
   ],
   "source": [
    "RFC_Model = RandomForestClassifier()\n",
    "RFC_Model.fit(X_train, y_train)\n",
    "RFC_Predict = RFC_Model.predict(X_valid)\n",
    "RFC_Accuracy = accuracy_score(y_valid, RFC_Predict)\n",
    "print(\"Accuracy: \" + str(RFC_Accuracy))\n",
    "\n",
    "RFC_AUC = roc_auc_score(y_valid, RFC_Predict) \n",
    "print(\"AUC: \" + str(RFC_AUC))"
   ]
  },
  {
   "cell_type": "code",
   "execution_count": 13,
   "id": "c9edd3e5",
   "metadata": {},
   "outputs": [
    {
     "name": "stdout",
     "output_type": "stream",
     "text": [
      "Accuracy: 0.748015873015873\n",
      "AUC: 0.4884535547483135\n"
     ]
    }
   ],
   "source": [
    "KNN_Model = KNeighborsClassifier()\n",
    "KNN_Model.fit(X_train, y_train)\n",
    "KNN_Predict = KNN_Model.predict(X_valid)\n",
    "KNN_Accuracy = accuracy_score(y_valid, KNN_Predict)\n",
    "print(\"Accuracy: \" + str(KNN_Accuracy))\n",
    "\n",
    "KNN_AUC = roc_auc_score(y_valid, KNN_Predict) \n",
    "print(\"AUC: \" + str(KNN_AUC))"
   ]
  },
  {
   "cell_type": "code",
   "execution_count": 14,
   "id": "8603eae8",
   "metadata": {},
   "outputs": [
    {
     "name": "stdout",
     "output_type": "stream",
     "text": [
      "Accuracy: 0.6865079365079365\n",
      "AUC: 0.5408406850025946\n"
     ]
    }
   ],
   "source": [
    "DT_Model = DecisionTreeClassifier()\n",
    "DT_Model.fit(X_train, y_train)\n",
    "DT_Predict = DT_Model.predict(X_valid)\n",
    "DT_Accuracy = accuracy_score(y_valid, DT_Predict)\n",
    "print(\"Accuracy: \" + str(DT_Accuracy))\n",
    "\n",
    "DT_AUC = roc_auc_score(y_valid, DT_Predict) \n",
    "print(\"AUC: \" + str(DT_AUC))"
   ]
  },
  {
   "cell_type": "code",
   "execution_count": 15,
   "id": "44ef8d6a",
   "metadata": {},
   "outputs": [],
   "source": [
    "training_LSVC = training.sample(1000)\n",
    "X_train_LSVC = training_LSVC[features]\n",
    "y_train_LSVC = training_LSVC['Popularity']\n",
    "X_test_LSVC = df.drop(training_LSVC.index)[features]\n",
    "X_train_LSVC, X_valid_LSVC, y_train_LSVC, y_valid_LSVC = train_test_split(\n",
    "    X_train_LSVC, y_train_LSVC, test_size = 0.2, random_state = 420)"
   ]
  },
  {
   "cell_type": "code",
   "execution_count": 16,
   "id": "8789d971",
   "metadata": {},
   "outputs": [
    {
     "name": "stdout",
     "output_type": "stream",
     "text": [
      "Accuracy: 0.63\n",
      "AUC: 0.4928728070175439\n"
     ]
    }
   ],
   "source": [
    "LSVC_Model = DecisionTreeClassifier()\n",
    "LSVC_Model.fit(X_train_LSVC, y_train_LSVC)\n",
    "LSVC_Predict = LSVC_Model.predict(X_valid_LSVC)\n",
    "LSVC_Accuracy = accuracy_score(y_valid_LSVC, LSVC_Predict)\n",
    "print(\"Accuracy: \" + str(LSVC_Accuracy))\n",
    "\n",
    "LSVC_AUC = roc_auc_score(y_valid_LSVC, LSVC_Predict) \n",
    "print(\"AUC: \" + str(LSVC_AUC))"
   ]
  },
  {
   "cell_type": "code",
   "execution_count": 17,
   "id": "590de787",
   "metadata": {},
   "outputs": [],
   "source": [
    "model_performance_accuracy = pd.DataFrame({'Model': ['LogisticRegression', \n",
    "                                                      'RandomForestClassifier', \n",
    "                                                      'KNeighborsClassifier',\n",
    "                                                      'DecisionTreeClassifier',\n",
    "                                                      'LinearSVC'],\n",
    "                                            'Accuracy': [LR_Accuracy,\n",
    "                                                         RFC_Accuracy,\n",
    "                                                         KNN_Accuracy,\n",
    "                                                         DT_Accuracy,\n",
    "                                                         LSVC_Accuracy]})\n",
    "\n",
    "model_performance_AUC = pd.DataFrame({'Model': ['LogisticRegression', \n",
    "                                                      'RandomForestClassifier', \n",
    "                                                      'KNeighborsClassifier',\n",
    "                                                      'DecisionTreeClassifier',\n",
    "                                                      'LinearSVC'],\n",
    "                                            'AUC': [LR_AUC,\n",
    "                                                         RFC_AUC,\n",
    "                                                         KNN_AUC,\n",
    "                                                         DT_AUC,\n",
    "                                                         LSVC_AUC]})"
   ]
  },
  {
   "cell_type": "code",
   "execution_count": 18,
   "id": "89ff1bd9",
   "metadata": {},
   "outputs": [
    {
     "data": {
      "text/html": [
       "<div>\n",
       "<style scoped>\n",
       "    .dataframe tbody tr th:only-of-type {\n",
       "        vertical-align: middle;\n",
       "    }\n",
       "\n",
       "    .dataframe tbody tr th {\n",
       "        vertical-align: top;\n",
       "    }\n",
       "\n",
       "    .dataframe thead th {\n",
       "        text-align: right;\n",
       "    }\n",
       "</style>\n",
       "<table border=\"1\" class=\"dataframe\">\n",
       "  <thead>\n",
       "    <tr style=\"text-align: right;\">\n",
       "      <th></th>\n",
       "      <th>Model</th>\n",
       "      <th>Accuracy</th>\n",
       "    </tr>\n",
       "  </thead>\n",
       "  <tbody>\n",
       "    <tr>\n",
       "      <th>1</th>\n",
       "      <td>RandomForestClassifier</td>\n",
       "      <td>0.815476</td>\n",
       "    </tr>\n",
       "    <tr>\n",
       "      <th>0</th>\n",
       "      <td>LogisticRegression</td>\n",
       "      <td>0.813492</td>\n",
       "    </tr>\n",
       "    <tr>\n",
       "      <th>2</th>\n",
       "      <td>KNeighborsClassifier</td>\n",
       "      <td>0.748016</td>\n",
       "    </tr>\n",
       "    <tr>\n",
       "      <th>3</th>\n",
       "      <td>DecisionTreeClassifier</td>\n",
       "      <td>0.686508</td>\n",
       "    </tr>\n",
       "    <tr>\n",
       "      <th>4</th>\n",
       "      <td>LinearSVC</td>\n",
       "      <td>0.630000</td>\n",
       "    </tr>\n",
       "  </tbody>\n",
       "</table>\n",
       "</div>"
      ],
      "text/plain": [
       "                    Model  Accuracy\n",
       "1  RandomForestClassifier  0.815476\n",
       "0      LogisticRegression  0.813492\n",
       "2    KNeighborsClassifier  0.748016\n",
       "3  DecisionTreeClassifier  0.686508\n",
       "4               LinearSVC  0.630000"
      ]
     },
     "execution_count": 18,
     "metadata": {},
     "output_type": "execute_result"
    }
   ],
   "source": [
    "model_performance_accuracy.sort_values(by = \"Accuracy\", ascending = False)"
   ]
  },
  {
   "cell_type": "code",
   "execution_count": 19,
   "id": "fd9ee187",
   "metadata": {},
   "outputs": [
    {
     "data": {
      "text/html": [
       "<div>\n",
       "<style scoped>\n",
       "    .dataframe tbody tr th:only-of-type {\n",
       "        vertical-align: middle;\n",
       "    }\n",
       "\n",
       "    .dataframe tbody tr th {\n",
       "        vertical-align: top;\n",
       "    }\n",
       "\n",
       "    .dataframe thead th {\n",
       "        text-align: right;\n",
       "    }\n",
       "</style>\n",
       "<table border=\"1\" class=\"dataframe\">\n",
       "  <thead>\n",
       "    <tr style=\"text-align: right;\">\n",
       "      <th></th>\n",
       "      <th>Model</th>\n",
       "      <th>AUC</th>\n",
       "    </tr>\n",
       "  </thead>\n",
       "  <tbody>\n",
       "    <tr>\n",
       "      <th>3</th>\n",
       "      <td>DecisionTreeClassifier</td>\n",
       "      <td>0.540841</td>\n",
       "    </tr>\n",
       "    <tr>\n",
       "      <th>1</th>\n",
       "      <td>RandomForestClassifier</td>\n",
       "      <td>0.525817</td>\n",
       "    </tr>\n",
       "    <tr>\n",
       "      <th>0</th>\n",
       "      <td>LogisticRegression</td>\n",
       "      <td>0.500000</td>\n",
       "    </tr>\n",
       "    <tr>\n",
       "      <th>4</th>\n",
       "      <td>LinearSVC</td>\n",
       "      <td>0.492873</td>\n",
       "    </tr>\n",
       "    <tr>\n",
       "      <th>2</th>\n",
       "      <td>KNeighborsClassifier</td>\n",
       "      <td>0.488454</td>\n",
       "    </tr>\n",
       "  </tbody>\n",
       "</table>\n",
       "</div>"
      ],
      "text/plain": [
       "                    Model       AUC\n",
       "3  DecisionTreeClassifier  0.540841\n",
       "1  RandomForestClassifier  0.525817\n",
       "0      LogisticRegression  0.500000\n",
       "4               LinearSVC  0.492873\n",
       "2    KNeighborsClassifier  0.488454"
      ]
     },
     "execution_count": 19,
     "metadata": {},
     "output_type": "execute_result"
    }
   ],
   "source": [
    "model_performance_AUC.sort_values(by = \"AUC\", ascending = False)"
   ]
  },
  {
   "cell_type": "code",
   "execution_count": null,
   "id": "2ddb2022",
   "metadata": {},
   "outputs": [],
   "source": []
  },
  {
   "cell_type": "code",
   "execution_count": null,
   "id": "c45eec1f",
   "metadata": {},
   "outputs": [],
   "source": []
  }
 ],
 "metadata": {
  "kernelspec": {
   "display_name": "Python 3",
   "language": "python",
   "name": "python3"
  },
  "language_info": {
   "codemirror_mode": {
    "name": "ipython",
    "version": 3
   },
   "file_extension": ".py",
   "mimetype": "text/x-python",
   "name": "python",
   "nbconvert_exporter": "python",
   "pygments_lexer": "ipython3",
   "version": "3.8.8"
  }
 },
 "nbformat": 4,
 "nbformat_minor": 5
}
